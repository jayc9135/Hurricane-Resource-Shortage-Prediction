{
 "cells": [
  {
   "cell_type": "code",
   "id": "initial_id",
   "metadata": {
    "collapsed": true,
    "ExecuteTime": {
     "end_time": "2025-03-02T18:18:26.116627Z",
     "start_time": "2025-03-02T18:18:25.795020Z"
    }
   },
   "source": "import pandas as pd",
   "outputs": [],
   "execution_count": 1
  },
  {
   "metadata": {},
   "cell_type": "markdown",
   "source": "Load the dataset",
   "id": "6bf3c9e04ebbbbf0"
  },
  {
   "metadata": {
    "ExecuteTime": {
     "end_time": "2025-03-02T18:31:16.096984Z",
     "start_time": "2025-03-02T18:31:16.090316Z"
    }
   },
   "cell_type": "code",
   "source": "df_moon = pd.read_csv('datasets/full_moons.csv')",
   "id": "b164f5c27dce6c27",
   "outputs": [],
   "execution_count": 18
  },
  {
   "metadata": {
    "ExecuteTime": {
     "end_time": "2025-03-02T18:31:16.901628Z",
     "start_time": "2025-03-02T18:31:16.894540Z"
    }
   },
   "cell_type": "code",
   "source": "df_moon.head(5)",
   "id": "e27bf30d94b605e2",
   "outputs": [
    {
     "data": {
      "text/plain": [
       "         Day              Date        Time Flag\n",
       "0     Monday   15 January 1900  8:07:30 pm  NaN\n",
       "1  Wednesday  14 February 1900  2:50:12 pm  NaN\n",
       "2     Friday     16 March 1900  9:11:48 am  NaN\n",
       "3     Sunday     15 April 1900  2:02:06 am  NaN\n",
       "4     Monday       14 May 1900  4:36:36 pm  NaN"
      ],
      "text/html": [
       "<div>\n",
       "<style scoped>\n",
       "    .dataframe tbody tr th:only-of-type {\n",
       "        vertical-align: middle;\n",
       "    }\n",
       "\n",
       "    .dataframe tbody tr th {\n",
       "        vertical-align: top;\n",
       "    }\n",
       "\n",
       "    .dataframe thead th {\n",
       "        text-align: right;\n",
       "    }\n",
       "</style>\n",
       "<table border=\"1\" class=\"dataframe\">\n",
       "  <thead>\n",
       "    <tr style=\"text-align: right;\">\n",
       "      <th></th>\n",
       "      <th>Day</th>\n",
       "      <th>Date</th>\n",
       "      <th>Time</th>\n",
       "      <th>Flag</th>\n",
       "    </tr>\n",
       "  </thead>\n",
       "  <tbody>\n",
       "    <tr>\n",
       "      <th>0</th>\n",
       "      <td>Monday</td>\n",
       "      <td>15 January 1900</td>\n",
       "      <td>8:07:30 pm</td>\n",
       "      <td>NaN</td>\n",
       "    </tr>\n",
       "    <tr>\n",
       "      <th>1</th>\n",
       "      <td>Wednesday</td>\n",
       "      <td>14 February 1900</td>\n",
       "      <td>2:50:12 pm</td>\n",
       "      <td>NaN</td>\n",
       "    </tr>\n",
       "    <tr>\n",
       "      <th>2</th>\n",
       "      <td>Friday</td>\n",
       "      <td>16 March 1900</td>\n",
       "      <td>9:11:48 am</td>\n",
       "      <td>NaN</td>\n",
       "    </tr>\n",
       "    <tr>\n",
       "      <th>3</th>\n",
       "      <td>Sunday</td>\n",
       "      <td>15 April 1900</td>\n",
       "      <td>2:02:06 am</td>\n",
       "      <td>NaN</td>\n",
       "    </tr>\n",
       "    <tr>\n",
       "      <th>4</th>\n",
       "      <td>Monday</td>\n",
       "      <td>14 May 1900</td>\n",
       "      <td>4:36:36 pm</td>\n",
       "      <td>NaN</td>\n",
       "    </tr>\n",
       "  </tbody>\n",
       "</table>\n",
       "</div>"
      ]
     },
     "execution_count": 19,
     "metadata": {},
     "output_type": "execute_result"
    }
   ],
   "execution_count": 19
  },
  {
   "metadata": {},
   "cell_type": "markdown",
   "source": "Add a new column with the datetime",
   "id": "3dbc8ca30650f41f"
  },
  {
   "metadata": {
    "ExecuteTime": {
     "end_time": "2025-03-02T18:31:18.719895Z",
     "start_time": "2025-03-02T18:31:18.710178Z"
    }
   },
   "cell_type": "code",
   "source": [
    "df_moon[\"Datetime\"] = pd.to_datetime(df_moon[\"Date\"] + \" \" + df_moon[\"Time\"],\n",
    "                                     format='%d %B %Y %I:%M:%S %p')\n",
    "df_moon.drop(columns=[\"Date\", \"Time\", \"Day\"], inplace=True)"
   ],
   "id": "f58716be132ce0b5",
   "outputs": [],
   "execution_count": 20
  },
  {
   "metadata": {
    "ExecuteTime": {
     "end_time": "2025-03-02T18:31:20.070769Z",
     "start_time": "2025-03-02T18:31:20.063260Z"
    }
   },
   "cell_type": "code",
   "source": "df_moon.head(5)",
   "id": "c9ade7d1668e8803",
   "outputs": [
    {
     "data": {
      "text/plain": [
       "  Flag            Datetime\n",
       "0  NaN 1900-01-15 20:07:30\n",
       "1  NaN 1900-02-14 14:50:12\n",
       "2  NaN 1900-03-16 09:11:48\n",
       "3  NaN 1900-04-15 02:02:06\n",
       "4  NaN 1900-05-14 16:36:36"
      ],
      "text/html": [
       "<div>\n",
       "<style scoped>\n",
       "    .dataframe tbody tr th:only-of-type {\n",
       "        vertical-align: middle;\n",
       "    }\n",
       "\n",
       "    .dataframe tbody tr th {\n",
       "        vertical-align: top;\n",
       "    }\n",
       "\n",
       "    .dataframe thead th {\n",
       "        text-align: right;\n",
       "    }\n",
       "</style>\n",
       "<table border=\"1\" class=\"dataframe\">\n",
       "  <thead>\n",
       "    <tr style=\"text-align: right;\">\n",
       "      <th></th>\n",
       "      <th>Flag</th>\n",
       "      <th>Datetime</th>\n",
       "    </tr>\n",
       "  </thead>\n",
       "  <tbody>\n",
       "    <tr>\n",
       "      <th>0</th>\n",
       "      <td>NaN</td>\n",
       "      <td>1900-01-15 20:07:30</td>\n",
       "    </tr>\n",
       "    <tr>\n",
       "      <th>1</th>\n",
       "      <td>NaN</td>\n",
       "      <td>1900-02-14 14:50:12</td>\n",
       "    </tr>\n",
       "    <tr>\n",
       "      <th>2</th>\n",
       "      <td>NaN</td>\n",
       "      <td>1900-03-16 09:11:48</td>\n",
       "    </tr>\n",
       "    <tr>\n",
       "      <th>3</th>\n",
       "      <td>NaN</td>\n",
       "      <td>1900-04-15 02:02:06</td>\n",
       "    </tr>\n",
       "    <tr>\n",
       "      <th>4</th>\n",
       "      <td>NaN</td>\n",
       "      <td>1900-05-14 16:36:36</td>\n",
       "    </tr>\n",
       "  </tbody>\n",
       "</table>\n",
       "</div>"
      ]
     },
     "execution_count": 21,
     "metadata": {},
     "output_type": "execute_result"
    }
   ],
   "execution_count": 21
  },
  {
   "metadata": {},
   "cell_type": "markdown",
   "source": "Save the formatted dataset as csv file",
   "id": "11de6ffcf763c43c"
  },
  {
   "metadata": {
    "ExecuteTime": {
     "end_time": "2025-03-02T18:31:49.595579Z",
     "start_time": "2025-03-02T18:31:49.588365Z"
    }
   },
   "cell_type": "code",
   "source": "df_moon.to_csv('datasets/full_moons_formatted.csv', index=False)",
   "id": "23a8261e08c9b907",
   "outputs": [],
   "execution_count": 22
  }
 ],
 "metadata": {
  "kernelspec": {
   "display_name": "Python 3",
   "language": "python",
   "name": "python3"
  },
  "language_info": {
   "codemirror_mode": {
    "name": "ipython",
    "version": 2
   },
   "file_extension": ".py",
   "mimetype": "text/x-python",
   "name": "python",
   "nbconvert_exporter": "python",
   "pygments_lexer": "ipython2",
   "version": "2.7.6"
  }
 },
 "nbformat": 4,
 "nbformat_minor": 5
}
