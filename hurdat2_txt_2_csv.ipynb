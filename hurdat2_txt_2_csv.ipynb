{
 "cells": [
  {
   "cell_type": "code",
   "id": "initial_id",
   "metadata": {
    "collapsed": true,
    "ExecuteTime": {
     "end_time": "2025-03-29T21:02:04.740734Z",
     "start_time": "2025-03-29T21:02:04.737233Z"
    }
   },
   "source": [
    "import pandas as pd\n",
    "import csv"
   ],
   "outputs": [],
   "execution_count": 20
  },
  {
   "metadata": {
    "ExecuteTime": {
     "end_time": "2025-03-29T21:02:04.772942Z",
     "start_time": "2025-03-29T21:02:04.744740Z"
    }
   },
   "cell_type": "code",
   "source": "df = pd.read_csv('datasets/hurdat2.csv')",
   "id": "550d1eaf2a14e015",
   "outputs": [],
   "execution_count": 21
  },
  {
   "metadata": {
    "ExecuteTime": {
     "end_time": "2025-03-29T21:02:04.784258Z",
     "start_time": "2025-03-29T21:02:04.781059Z"
    }
   },
   "cell_type": "code",
   "source": [
    "# File paths\n",
    "input_file = \"datasets/hurdat2-1851-2023-051124.txt\"\n",
    "output_file = \"datasets/hurdat2.csv\""
   ],
   "id": "adfce8de002b78ba",
   "outputs": [],
   "execution_count": 22
  },
  {
   "metadata": {
    "ExecuteTime": {
     "end_time": "2025-03-29T21:02:04.795468Z",
     "start_time": "2025-03-29T21:02:04.792281Z"
    }
   },
   "cell_type": "code",
   "source": [
    "# Define column headers\n",
    "header_col = [\"storm_id\", \"storm_name\", \"num_of_obs\"]\n",
    "obs_col = [\"date\",\n",
    "           \"time\",\n",
    "           \"record_identifier\",\n",
    "           \"status_of_system\",\n",
    "           \"latitude\",\n",
    "           \"longitude\",\n",
    "           \"maximum_sustained_wind_knots\",\n",
    "           \"central_pressure_mb\",\n",
    "           \"34_kt_ne_nm\",\n",
    "           \"34_kt_se_nm\",\n",
    "           \"34_kt_sw_nm\",\n",
    "           \"34_kt_nw_nm\",\n",
    "           \"50_kt_ne_nm\",\n",
    "           \"50_kt_se_nm\",\n",
    "           \"50_kt_sw_nm\",\n",
    "           \"50_kt_nw_nm\",\n",
    "           \"64_kt_ne_nm\",\n",
    "           \"64_kt_se_nm\",\n",
    "           \"64_kt_sw_nm\",\n",
    "           \"64_kt_nw_nm\",\n",
    "           \"radius_of_max_wind_nm\"\n",
    "           ]\n",
    "\n",
    "headers = header_col + obs_col\n"
   ],
   "id": "f74ca712b19b811d",
   "outputs": [],
   "execution_count": 23
  },
  {
   "metadata": {
    "ExecuteTime": {
     "end_time": "2025-03-29T21:02:04.974804Z",
     "start_time": "2025-03-29T21:02:04.804808Z"
    }
   },
   "cell_type": "code",
   "source": [
    "# # read the file\n",
    "# with open(input_file, \"r\") as f:\n",
    "#     f = csv.reader(f)\n",
    "#     storm_id = None\n",
    "#     storm_name = None\n",
    "#     num_of_obs = None\n",
    "#     data = []\n",
    "#     data_temp = []\n",
    "#     landfall = False\n",
    "#     for line in f:\n",
    "#         line = [item.strip() for item in line]\n",
    "#         if len(line) == 4:\n",
    "#             landfall = False\n",
    "#             data_temp = []\n",
    "#             storm_id = line[0].strip()\n",
    "#             storm_name = line[1].strip()\n",
    "#             num_of_obs = line[2].strip()\n",
    "#         elif len(line) == 21:\n",
    "#             # Store data in a temporary list, incase hurricane is landfall and we need previous 2 observations\n",
    "#             row= [storm_id, storm_name, num_of_obs] + line\n",
    "#             data_temp.append(row)\n",
    "#             if line[2] == 'L':\n",
    "#                 # Hurricane is landfall one\n",
    "#                 landfall = True\n",
    "#\n",
    "#                 # Store the previous 2 observations of the hurricane\n",
    "#                 data = data + data_temp[-3:-1]\n",
    "#             if landfall:\n",
    "#                 # store all the observations of the hurricane after and including landfall observation\n",
    "#                 row= [storm_id, storm_name, num_of_obs] + line\n",
    "#                 data.append(row)\n",
    "#\n",
    "#\n",
    "# df = pd.DataFrame(data, columns=headers)\n",
    "# df.to_csv(output_file, index=False)\n",
    "# print(\"Done converting the file to CSV\")\n",
    "\n",
    "# read the file\n",
    "with open(input_file, \"r\") as f:\n",
    "    f = csv.reader(f)\n",
    "    storm_id = None\n",
    "    storm_name = None\n",
    "    num_of_obs = None\n",
    "    data = []\n",
    "    data_temp = []\n",
    "    landfall = False\n",
    "    for line in f:\n",
    "        line = [item.strip() for item in line]\n",
    "        if len(line) == 4:\n",
    "            landfall = False\n",
    "            data_temp = []\n",
    "            storm_id = line[0].strip()\n",
    "            storm_name = line[1].strip()\n",
    "            num_of_obs = line[2].strip()\n",
    "        elif len(line) == 21:\n",
    "            # Store data in a temporary list, incase hurricane is landfall and we need previous 2 observations\n",
    "            row= [storm_id, storm_name, num_of_obs] + line\n",
    "            data_temp.append(row)\n",
    "            if line[2] == 'L':\n",
    "                # Hurricane is landfall one\n",
    "                landfall = True\n",
    "\n",
    "                # Store the previous 2 observations of the hurricane\n",
    "                data = data + data_temp[-3:-1]\n",
    "            if landfall:\n",
    "                # store all the observations of the hurricane after and including landfall observation\n",
    "                row= [storm_id, storm_name, num_of_obs] + line\n",
    "                data.append(row)\n",
    "\n",
    "df = pd.DataFrame(data, columns=headers)"
   ],
   "id": "149a805e5b724467",
   "outputs": [],
   "execution_count": 24
  },
  {
   "metadata": {},
   "cell_type": "markdown",
   "source": "Converting the coordinates to decimal format",
   "id": "4b4fc3fd2f9a4cf8"
  },
  {
   "metadata": {
    "ExecuteTime": {
     "end_time": "2025-03-29T21:02:04.987046Z",
     "start_time": "2025-03-29T21:02:04.983938Z"
    }
   },
   "cell_type": "code",
   "source": [
    "# Function to convert coordinates\n",
    "def convert_to_decimal(coord):\n",
    "    if coord[-1] in \"NS\":\n",
    "        value = float(coord[:-1]) * (-1 if coord[-1] == \"S\" else 1)\n",
    "    elif coord[-1] in \"EW\":\n",
    "        value = float(coord[:-1]) * (-1 if coord[-1] == \"W\" else 1)\n",
    "    else:\n",
    "        value = float(coord)  # In case it's already numeric\n",
    "    return value"
   ],
   "id": "cd4c650ced58f068",
   "outputs": [],
   "execution_count": 25
  },
  {
   "metadata": {
    "ExecuteTime": {
     "end_time": "2025-03-29T21:02:05.007155Z",
     "start_time": "2025-03-29T21:02:04.995745Z"
    }
   },
   "cell_type": "code",
   "source": [
    "df['latitude'] = df['latitude'].apply(convert_to_decimal)\n",
    "df['longitude'] = df['longitude'].apply(convert_to_decimal)"
   ],
   "id": "255e3fa7a1a4276",
   "outputs": [],
   "execution_count": 26
  },
  {
   "metadata": {},
   "cell_type": "markdown",
   "source": "If you want only of florida, uncomment the following code",
   "id": "ad7d55b3b00049a3"
  },
  {
   "metadata": {
    "ExecuteTime": {
     "end_time": "2025-03-29T21:02:05.022799Z",
     "start_time": "2025-03-29T21:02:05.015539Z"
    }
   },
   "cell_type": "code",
   "source": [
    "top_left = (31.3, -88.2)\n",
    "bottom_right = (24.7, -79.0)\n",
    "\n",
    "df = df[(df['latitude'] <= top_left[0]) &\n",
    "        (df['latitude'] >= bottom_right[0]) &\n",
    "        (df['longitude'] >= top_left[1]) &\n",
    "        (df['longitude'] <= bottom_right[1])]"
   ],
   "id": "621da4de887e8eb4",
   "outputs": [],
   "execution_count": 27
  },
  {
   "metadata": {
    "ExecuteTime": {
     "end_time": "2025-03-29T21:02:05.047478Z",
     "start_time": "2025-03-29T21:02:05.034947Z"
    }
   },
   "cell_type": "code",
   "source": [
    "df.to_csv(output_file, index=False)\n",
    "print(\"Done converting the file to CSV\")"
   ],
   "id": "cab74be16b5406b0",
   "outputs": [
    {
     "name": "stdout",
     "output_type": "stream",
     "text": [
      "Done converting the file to CSV\n"
     ]
    }
   ],
   "execution_count": 28
  }
 ],
 "metadata": {
  "kernelspec": {
   "display_name": "Python 3",
   "language": "python",
   "name": "python3"
  },
  "language_info": {
   "codemirror_mode": {
    "name": "ipython",
    "version": 2
   },
   "file_extension": ".py",
   "mimetype": "text/x-python",
   "name": "python",
   "nbconvert_exporter": "python",
   "pygments_lexer": "ipython2",
   "version": "2.7.6"
  }
 },
 "nbformat": 4,
 "nbformat_minor": 5
}
