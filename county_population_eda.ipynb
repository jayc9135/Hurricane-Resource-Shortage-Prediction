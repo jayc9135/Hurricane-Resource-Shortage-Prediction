{
 "cells": [
  {
   "cell_type": "code",
   "id": "initial_id",
   "metadata": {
    "collapsed": true,
    "ExecuteTime": {
     "end_time": "2025-03-29T19:07:31.069681Z",
     "start_time": "2025-03-29T19:07:31.066822Z"
    }
   },
   "source": "import pandas as pd",
   "outputs": [],
   "execution_count": 38
  },
  {
   "metadata": {
    "ExecuteTime": {
     "end_time": "2025-03-29T19:07:31.808196Z",
     "start_time": "2025-03-29T19:07:31.791548Z"
    }
   },
   "cell_type": "code",
   "source": "df = pd.read_csv('datasets/county_population.csv')",
   "id": "c5c763b5c9f4cbf2",
   "outputs": [],
   "execution_count": 39
  },
  {
   "metadata": {
    "ExecuteTime": {
     "end_time": "2025-03-29T19:07:32.637047Z",
     "start_time": "2025-03-29T19:07:32.629411Z"
    }
   },
   "cell_type": "code",
   "source": "df.head(5)",
   "id": "b7c2e635474403d3",
   "outputs": [
    {
     "data": {
      "text/plain": [
       "                     county population_2020 population_2021 population_2022  \\\n",
       "0  .Autauga County, Alabama          58,800          59,191          59,736   \n",
       "1  .Baldwin County, Alabama         231,767         239,411         246,577   \n",
       "2  .Barbour County, Alabama          25,226          24,517          24,722   \n",
       "3     .Bibb County, Alabama          22,284          22,344          21,983   \n",
       "4   .Blount County, Alabama          59,130          59,050          59,491   \n",
       "\n",
       "  population_2023 population_2024  \n",
       "0          60,436          61,464  \n",
       "1         254,107         261,608  \n",
       "2          24,644          24,358  \n",
       "3          21,890          22,258  \n",
       "4          59,777          60,163  "
      ],
      "text/html": [
       "<div>\n",
       "<style scoped>\n",
       "    .dataframe tbody tr th:only-of-type {\n",
       "        vertical-align: middle;\n",
       "    }\n",
       "\n",
       "    .dataframe tbody tr th {\n",
       "        vertical-align: top;\n",
       "    }\n",
       "\n",
       "    .dataframe thead th {\n",
       "        text-align: right;\n",
       "    }\n",
       "</style>\n",
       "<table border=\"1\" class=\"dataframe\">\n",
       "  <thead>\n",
       "    <tr style=\"text-align: right;\">\n",
       "      <th></th>\n",
       "      <th>county</th>\n",
       "      <th>population_2020</th>\n",
       "      <th>population_2021</th>\n",
       "      <th>population_2022</th>\n",
       "      <th>population_2023</th>\n",
       "      <th>population_2024</th>\n",
       "    </tr>\n",
       "  </thead>\n",
       "  <tbody>\n",
       "    <tr>\n",
       "      <th>0</th>\n",
       "      <td>.Autauga County, Alabama</td>\n",
       "      <td>58,800</td>\n",
       "      <td>59,191</td>\n",
       "      <td>59,736</td>\n",
       "      <td>60,436</td>\n",
       "      <td>61,464</td>\n",
       "    </tr>\n",
       "    <tr>\n",
       "      <th>1</th>\n",
       "      <td>.Baldwin County, Alabama</td>\n",
       "      <td>231,767</td>\n",
       "      <td>239,411</td>\n",
       "      <td>246,577</td>\n",
       "      <td>254,107</td>\n",
       "      <td>261,608</td>\n",
       "    </tr>\n",
       "    <tr>\n",
       "      <th>2</th>\n",
       "      <td>.Barbour County, Alabama</td>\n",
       "      <td>25,226</td>\n",
       "      <td>24,517</td>\n",
       "      <td>24,722</td>\n",
       "      <td>24,644</td>\n",
       "      <td>24,358</td>\n",
       "    </tr>\n",
       "    <tr>\n",
       "      <th>3</th>\n",
       "      <td>.Bibb County, Alabama</td>\n",
       "      <td>22,284</td>\n",
       "      <td>22,344</td>\n",
       "      <td>21,983</td>\n",
       "      <td>21,890</td>\n",
       "      <td>22,258</td>\n",
       "    </tr>\n",
       "    <tr>\n",
       "      <th>4</th>\n",
       "      <td>.Blount County, Alabama</td>\n",
       "      <td>59,130</td>\n",
       "      <td>59,050</td>\n",
       "      <td>59,491</td>\n",
       "      <td>59,777</td>\n",
       "      <td>60,163</td>\n",
       "    </tr>\n",
       "  </tbody>\n",
       "</table>\n",
       "</div>"
      ]
     },
     "execution_count": 40,
     "metadata": {},
     "output_type": "execute_result"
    }
   ],
   "execution_count": 40
  },
  {
   "metadata": {},
   "cell_type": "markdown",
   "source": "# Data Cleaning",
   "id": "537235f4eb0ea5de"
  },
  {
   "metadata": {
    "ExecuteTime": {
     "end_time": "2025-03-29T19:07:34.709539Z",
     "start_time": "2025-03-29T19:07:34.702576Z"
    }
   },
   "cell_type": "code",
   "source": [
    "df['county'] = df['county'].apply(lambda x: x[1:])\n",
    "df.head(5)"
   ],
   "id": "30888b1fa1f32ad4",
   "outputs": [
    {
     "data": {
      "text/plain": [
       "                    county population_2020 population_2021 population_2022  \\\n",
       "0  Autauga County, Alabama          58,800          59,191          59,736   \n",
       "1  Baldwin County, Alabama         231,767         239,411         246,577   \n",
       "2  Barbour County, Alabama          25,226          24,517          24,722   \n",
       "3     Bibb County, Alabama          22,284          22,344          21,983   \n",
       "4   Blount County, Alabama          59,130          59,050          59,491   \n",
       "\n",
       "  population_2023 population_2024  \n",
       "0          60,436          61,464  \n",
       "1         254,107         261,608  \n",
       "2          24,644          24,358  \n",
       "3          21,890          22,258  \n",
       "4          59,777          60,163  "
      ],
      "text/html": [
       "<div>\n",
       "<style scoped>\n",
       "    .dataframe tbody tr th:only-of-type {\n",
       "        vertical-align: middle;\n",
       "    }\n",
       "\n",
       "    .dataframe tbody tr th {\n",
       "        vertical-align: top;\n",
       "    }\n",
       "\n",
       "    .dataframe thead th {\n",
       "        text-align: right;\n",
       "    }\n",
       "</style>\n",
       "<table border=\"1\" class=\"dataframe\">\n",
       "  <thead>\n",
       "    <tr style=\"text-align: right;\">\n",
       "      <th></th>\n",
       "      <th>county</th>\n",
       "      <th>population_2020</th>\n",
       "      <th>population_2021</th>\n",
       "      <th>population_2022</th>\n",
       "      <th>population_2023</th>\n",
       "      <th>population_2024</th>\n",
       "    </tr>\n",
       "  </thead>\n",
       "  <tbody>\n",
       "    <tr>\n",
       "      <th>0</th>\n",
       "      <td>Autauga County, Alabama</td>\n",
       "      <td>58,800</td>\n",
       "      <td>59,191</td>\n",
       "      <td>59,736</td>\n",
       "      <td>60,436</td>\n",
       "      <td>61,464</td>\n",
       "    </tr>\n",
       "    <tr>\n",
       "      <th>1</th>\n",
       "      <td>Baldwin County, Alabama</td>\n",
       "      <td>231,767</td>\n",
       "      <td>239,411</td>\n",
       "      <td>246,577</td>\n",
       "      <td>254,107</td>\n",
       "      <td>261,608</td>\n",
       "    </tr>\n",
       "    <tr>\n",
       "      <th>2</th>\n",
       "      <td>Barbour County, Alabama</td>\n",
       "      <td>25,226</td>\n",
       "      <td>24,517</td>\n",
       "      <td>24,722</td>\n",
       "      <td>24,644</td>\n",
       "      <td>24,358</td>\n",
       "    </tr>\n",
       "    <tr>\n",
       "      <th>3</th>\n",
       "      <td>Bibb County, Alabama</td>\n",
       "      <td>22,284</td>\n",
       "      <td>22,344</td>\n",
       "      <td>21,983</td>\n",
       "      <td>21,890</td>\n",
       "      <td>22,258</td>\n",
       "    </tr>\n",
       "    <tr>\n",
       "      <th>4</th>\n",
       "      <td>Blount County, Alabama</td>\n",
       "      <td>59,130</td>\n",
       "      <td>59,050</td>\n",
       "      <td>59,491</td>\n",
       "      <td>59,777</td>\n",
       "      <td>60,163</td>\n",
       "    </tr>\n",
       "  </tbody>\n",
       "</table>\n",
       "</div>"
      ]
     },
     "execution_count": 41,
     "metadata": {},
     "output_type": "execute_result"
    }
   ],
   "execution_count": 41
  },
  {
   "metadata": {},
   "cell_type": "markdown",
   "source": "Saving the data after cleaning",
   "id": "6c27bb00302541ac"
  },
  {
   "metadata": {
    "ExecuteTime": {
     "end_time": "2025-03-29T19:07:38.554686Z",
     "start_time": "2025-03-29T19:07:38.546488Z"
    }
   },
   "cell_type": "code",
   "source": "df.to_csv('datasets/county_population_cleaned.csv', index=False)",
   "id": "9480ffc935fb6bdb",
   "outputs": [],
   "execution_count": 42
  }
 ],
 "metadata": {
  "kernelspec": {
   "display_name": "Python 3",
   "language": "python",
   "name": "python3"
  },
  "language_info": {
   "codemirror_mode": {
    "name": "ipython",
    "version": 2
   },
   "file_extension": ".py",
   "mimetype": "text/x-python",
   "name": "python",
   "nbconvert_exporter": "python",
   "pygments_lexer": "ipython2",
   "version": "2.7.6"
  }
 },
 "nbformat": 4,
 "nbformat_minor": 5
}
